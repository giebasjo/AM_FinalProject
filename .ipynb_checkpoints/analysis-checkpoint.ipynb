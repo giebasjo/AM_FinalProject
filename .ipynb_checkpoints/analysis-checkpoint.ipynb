{
 "cells": [
  {
   "cell_type": "markdown",
   "metadata": {},
   "source": [
    "# Main Analysis\n",
    "\n",
    "Done w/ the data created from the `data_ingestion.ipynb`."
   ]
  },
  {
   "cell_type": "code",
   "execution_count": 1,
   "metadata": {},
   "outputs": [],
   "source": [
    "import pandas as pd\n",
    "import numpy as np\n",
    "import matplotlib.pyplot as plt\n",
    "import seaborn as sns; sns.set()\n",
    "from datetime import datetime\n",
    "\n",
    "import statsmodels.formula.api as smf\n",
    "from sklearn.metrics import mean_squared_error"
   ]
  },
  {
   "cell_type": "code",
   "execution_count": 2,
   "metadata": {},
   "outputs": [],
   "source": [
    "## Import data\n",
    "ff_data = pd.read_csv(\"./Data/2018-12-04_Data/ff_dataset_2018-12-04.csv\")\n",
    "ff_data.index = pd.to_datetime( ff_data.Date )\n",
    "ff_data = ff_data.drop([\"Date\"], axis=1)\n",
    "\n",
    "## Rename the \"Mkt-RF\" column\n",
    "ff_data.columns = [\"Volume\", \"INDPRO\", \"Mkt\", \"SMB\", \"Mom\"]"
   ]
  },
  {
   "cell_type": "markdown",
   "metadata": {},
   "source": [
    "## Constructing the \"Momentum of Factor\" Series"
   ]
  },
  {
   "cell_type": "code",
   "execution_count": 3,
   "metadata": {},
   "outputs": [],
   "source": [
    "## Get the wealth process\n",
    "ff_data[\"Vt_mom\"] = np.cumprod( np.array(ff_data.Mom) + 1 )\n",
    "\n",
    "## Populate the momentum of factor series\n",
    "a = 11; b = 2\n",
    "val_list = []; date_list = []\n",
    "for idx in range( a, len(ff_data.index) ):\n",
    "    \n",
    "    date_list.append( ff_data.index[idx] )\n",
    "\n",
    "    ret12 = (ff_data.iloc[idx,5] / ff_data.iloc[idx-a,5]) - 1\n",
    "    ret2  = (ff_data.iloc[idx,5] / ff_data.iloc[idx-b,5]) - 1\n",
    "\n",
    "    val_list.append( ret12 - ret2 )\n",
    "    \n",
    "## Store the factor momentum series\n",
    "ff_data[\"factor_mom\"] = pd.Series( data=val_list, index=date_list )\n",
    "\n",
    "## Remove the nan values\n",
    "ff_data = ff_data.iloc[a:, :]\n",
    "\n",
    "## Drop unneeded columns\n",
    "ff_data = ff_data.drop( [\"Volume\", \"SMB\", \"Vt_mom\"], axis=1 )\n",
    "ff_data = ff_data.loc[:, [\"INDPRO\", \"Mkt\", \"factor_mom\", \"Mom\"]]"
   ]
  },
  {
   "cell_type": "markdown",
   "metadata": {},
   "source": [
    "## Working with Fama-French Data\n",
    "\n",
    "Using a rolling-window approach, we will loop through the dataframe fetching the last $N$ (to be optimized) dates of data to then regress and predict the next $Mom$ value."
   ]
  },
  {
   "cell_type": "code",
   "execution_count": 4,
   "metadata": {},
   "outputs": [],
   "source": [
    "def perform_mv_ff_regerssion( df, factor_name ):\n",
    "    lm = smf.ols( \"{} ~ INDPRO + Mkt + factor_{}\".format(factor_name, factor_name.lower()), data=df ).fit()\n",
    "    betas = np.array(lm.params); rsq = lm.rsquared_adj\n",
    "\n",
    "    return (betas, rsq)\n",
    "    \n",
    "def perform_uv_ff_regerssion( df, colname, factor_name ):\n",
    "    lm = smf.ols( \"{} ~ {}\".format(factor_name, colname), data=df ).fit()\n",
    "    betas = np.array(lm.params); rsq = lm.rsquared_adj\n",
    "\n",
    "    return (betas, rsq)\n",
    "\n",
    "def mv_prediction( betas, curr_vals ):\n",
    "    pred = sum( np.multiply( betas[1:], curr_vals ) ) + betas[0]\n",
    "    return pred\n",
    "\n",
    "def uv_prediction( beta, curr_vals ):\n",
    "    pred = beta[0] + beta[1]*curr_vals #[i]\n",
    "    return pred\n",
    "\n",
    "def gather_stats( uv_rsq, uv_preds, mv_rsq, mv_preds, y_vals ):\n",
    "    \n",
    "    ## Gather univariate stats\n",
    "\n",
    "    # INDPRO\n",
    "    indpro_avg_rsq = np.average( uv_rsq[0] )\n",
    "    indpro_mse     = mean_squared_error( uv_preds[0], y_vals )\n",
    "\n",
    "    # MKT\n",
    "    mkt_avg_rsq    = np.average( uv_rsq[1] )\n",
    "    mkt_mse        = mean_squared_error( uv_preds[1], y_vals )\n",
    "\n",
    "    # Factor Momentum\n",
    "    fmom_avg_rsq   = np.average( uv_rsq[2] )\n",
    "    fmom_mse       = mean_squared_error( uv_preds[2], y_vals )\n",
    "\n",
    "    ## Gather multivariate stats\n",
    "    \n",
    "    mv_avg_rsq = np.average( mv_rsq )\n",
    "    mv_mse     = mean_squared_error( mv_preds, y_vals )\n",
    "    \n",
    "    ## Form out dataframe\n",
    "    stats_df = pd.DataFrame( columns = [\"MV\"] +  [\"UV_{}\".format(col) for col in ff_data.columns[:-1]], \\\n",
    "                         index = [\"Avg_Adj_R^2\", \"MSE\"] )\n",
    "    stats_df.iloc[0, :] = [mv_avg_rsq, indpro_avg_rsq, mkt_avg_rsq, fmom_avg_rsq]\n",
    "    stats_df.iloc[1, :] = [mv_mse, indpro_mse, mkt_mse, fmom_mse]\n",
    "    \n",
    "    return stats_df\n",
    "\n",
    "def get_sharpe_ratio( V_t ):\n",
    "    \n",
    "    tot_ret = (V_t[-1] / V_t[0]) - 1\n",
    "    ret_1y  = (1 + tot_ret)**( 1/(len(V_t)/12) ) - 1 # 12 - due to monthly data\n",
    "    sig_1y  = np.std( (V_t[1:]/V_t[:-1]) - 1 ) * np.sqrt(12)   \n",
    "    sharpe = ret_1y / sig_1y\n",
    "    \n",
    "    return ( sharpe, ret_1y, sig_1y )\n",
    "\n",
    "\"\"\"\n",
    "We should separate these by trend following / mean reverting strategies\n",
    "\"\"\"\n",
    "def trading_strategies( idx, df_10d, pred, next_vals_Y, factor ):   \n",
    "\n",
    "    def trendfollow_strats( idx, df_10d, pred, next_vals_Y, factor ):\n",
    "        \n",
    "        \"\"\"\n",
    "        The naïve strategy that I already implemented on 12/7/2018\n",
    "        \"\"\"\n",
    "        def strat0( idx, df_10d, pred, next_vals_Y, factor ):\n",
    "\n",
    "            ## Get historical average\n",
    "            mom_avg = np.average( df_10d[factor] ); mom_std = np.std( df_10d[factor] )\n",
    "\n",
    "            # Determine whether to open a position, and long vs. short\n",
    "            if ( pred < mom_avg - mom_std ):\n",
    "                return ( 1 - next_vals_Y ) # Shorting \n",
    "            elif ( pred > mom_avg + mom_std ):\n",
    "                return ( 1 + next_vals_Y ) # Longing        \n",
    "            else:\n",
    "                return ( 1 ) # Not opening trade\n",
    "        \n",
    "        \"\"\"\n",
    "        Use all of the data up until the point of\n",
    "        regression to estimate the historical momentum average / std\n",
    "        Use these values to determine whether or not to trade\n",
    "        \"\"\"\n",
    "        def strat1( idx, df_10d, pred, next_vals_Y, factor ):\n",
    "            \n",
    "            ## Get historical average\n",
    "            mom_avg = np.average( ff_data.iloc[:idx, 3] ); mom_std = np.std( ff_data.iloc[:idx, 3] )\n",
    "\n",
    "            # Determine whether to open a position, and long vs. short\n",
    "            if ( pred < mom_avg - mom_std ):\n",
    "                return ( 1 - next_vals_Y ) # Shorting\n",
    "            elif ( pred > mom_avg + mom_std ):\n",
    "                return ( 1 + next_vals_Y ) # Longing        \n",
    "            else:\n",
    "                return ( 1 ) # Not opening trade\n",
    "        \n",
    "        \"\"\"\n",
    "        Using the median rather than the mean, only on the\n",
    "        lagged dataframe (w/10 values)\n",
    "        \"\"\"\n",
    "        def strat2( idx, df_10d, pred, next_vals_Y, factor ):\n",
    "\n",
    "            ## Get historical 25/75 percentils\n",
    "            mom_med_25 = np.percentile( df_10d[factor], q=0.25 )\n",
    "            mom_med_75 = np.percentile( df_10d[factor], q=0.75 )\n",
    "\n",
    "            # Determine whether to open a position, and long vs. short\n",
    "            if ( pred < mom_med_25 ):\n",
    "                return ( 1 - next_vals_Y ) # Shorting \n",
    "            elif ( pred > mom_med_75 ):\n",
    "                return ( 1 + next_vals_Y ) # Longing        \n",
    "            else:\n",
    "                return ( 1 ) # Not opening trade\n",
    "        \n",
    "        \"\"\"\n",
    "        Using the median rather than the mean, with the\n",
    "        entire data set up until that date\n",
    "        \"\"\"\n",
    "        def strat3( idx, df_10d, pred, next_vals_Y, factor ):\n",
    "            \n",
    "            ## Get historical 25/75 percentils\n",
    "            mom_med_25 = np.percentile( ff_data.iloc[:idx, 3], q=0.25 )\n",
    "            mom_med_75 = np.percentile( ff_data.iloc[:idx, 3], q=0.75 )\n",
    "\n",
    "            # Determine whether to open a position, and long vs. short\n",
    "            if ( pred < mom_med_25 ):\n",
    "                return ( 1 - next_vals_Y ) # Shorting \n",
    "            elif ( pred > mom_med_75 ):\n",
    "                return ( 1 + next_vals_Y ) # Longing        \n",
    "            else:\n",
    "                return ( 1 ) # Not opening trade\n",
    "\n",
    "        \n",
    "        \"\"\"\n",
    "        Use all of the historical data, and the last 10 day data, compare the cross over\n",
    "        \"\"\"\n",
    "        def strat4( idx, df_10d, pred, next_vals_Y, factor ):\n",
    "\n",
    "            ## Initialize container\n",
    "            V_t = [1]\n",
    "\n",
    "            ## Get total historical average\n",
    "            mom_avg_all = np.average( ff_data.iloc[:idx, 3] )\n",
    "            mom_avg_10d = np.average( df_10d[factor] )\n",
    "\n",
    "            ## Determine whether to open a position, and long vs. short\n",
    "            if ( (mom_avg_10d > mom_avg_all ) and (pred > mom_avg_10d) ):\n",
    "                return ( 1 + next_vals_Y ) # Longing\n",
    "            elif ( (mom_avg_10d > mom_avg_all ) and (pred > mom_avg_10d) ):\n",
    "                return ( 1 - next_vals_Y ) # Shorting\n",
    "            else:\n",
    "                return ( 1 ) # Not opening trade\n",
    "\n",
    "        # Collect all return streams from the trading strategies here\n",
    "        v_0 = strat0( idx, df_10d, pred, next_vals_Y, factor )\n",
    "        v_1 = strat1( idx, df_10d, pred, next_vals_Y, factor )\n",
    "        v_2 = strat2( idx, df_10d, pred, next_vals_Y, factor )\n",
    "        v_3 = strat3( idx, df_10d, pred, next_vals_Y, factor )\n",
    "        v_4 = strat4( idx, df_10d, pred, next_vals_Y, factor )\n",
    "        \n",
    "        return [v_0, v_1, v_2, v_3, v_4]\n",
    "        \n",
    "    \n",
    "    def meanrevert_strats( idx, df_10d, pred, next_vals_Y, factor ):\n",
    "        \n",
    "        \"\"\"\n",
    "        The naïve strategy that I already implemented on 12/7/2018\n",
    "        \"\"\"\n",
    "        def strat0( idx, df_10d, pred, next_vals_Y, factor ):\n",
    "\n",
    "            ## Get historical average\n",
    "            mom_avg = np.average( df_10d[factor] ); mom_std = np.std( df_10d[factor] )\n",
    "\n",
    "            # Determine whether to open a position, and long vs. short\n",
    "            if ( pred < mom_avg - mom_std ):\n",
    "                return ( 1 + next_vals_Y ) # Longing\n",
    "            elif ( pred > mom_avg + mom_std ):\n",
    "                return ( 1 - next_vals_Y ) # Shorting        \n",
    "            else:\n",
    "                return ( 1 ) # Not opening trade\n",
    "\n",
    "        \"\"\"\n",
    "        Use all of the data up until the point of\n",
    "        regression to estimate the historical momentum average / std\n",
    "        Use these values to determine whether or not to trade\n",
    "        \"\"\"\n",
    "        def strat1( idx, df_10d, pred, next_vals_Y, factor ):\n",
    "\n",
    "            ## Get historical average\n",
    "            mom_avg = np.average( ff_data.iloc[:idx, 3] ); mom_std = np.std( ff_data.iloc[:idx, 3] )\n",
    "\n",
    "            # Determine whether to open a position, and long vs. short\n",
    "            if ( pred < mom_avg - mom_std ):\n",
    "                return ( 1 + next_vals_Y ) # Longing\n",
    "            elif ( pred > mom_avg + mom_std ):\n",
    "                return ( 1 - next_vals_Y ) # Shorting        \n",
    "            else:\n",
    "                return ( 1 ) # Not opening trade\n",
    "\n",
    "        \"\"\"\n",
    "        Using the median rather than the mean, only on the\n",
    "        lagged dataframe (w/10 values)\n",
    "        \"\"\"\n",
    "        def strat2( idx, df_10d, pred, next_vals_Y, factor ):\n",
    "\n",
    "            ## Get historical 25/75 percentils\n",
    "            mom_med_25 = np.percentile( df_10d[factor], q=0.25 )\n",
    "            mom_med_75 = np.percentile( df_10d[factor], q=0.75 )\n",
    "\n",
    "            # Determine whether to open a position, and long vs. short\n",
    "            if ( pred < mom_med_25 ):\n",
    "                return ( 1 + next_vals_Y ) # Longing \n",
    "            elif ( pred > mom_med_75 ):\n",
    "                return ( 1 - next_vals_Y ) # Shorting        \n",
    "            else:\n",
    "                return ( 1 ) # Not opening trade\n",
    "        \n",
    "        \"\"\"\n",
    "        Using the median rather than the mean, with the\n",
    "        entire data set up until that date\n",
    "        \"\"\"\n",
    "        def strat3( idx, df_10d, pred, next_vals_Y, factor ):\n",
    "\n",
    "            ## Get historical 25/75 percentils\n",
    "            mom_med_25 = np.percentile( ff_data.iloc[:idx, 3], q=0.25 )\n",
    "            mom_med_75 = np.percentile( ff_data.iloc[:idx, 3], q=0.75 )\n",
    "\n",
    "            # Determine whether to open a position, and long vs. short\n",
    "            if ( pred < mom_med_25 ):\n",
    "                return ( 1 + next_vals_Y ) # Longing \n",
    "            elif ( pred > mom_med_75 ):\n",
    "                return ( 1 - next_vals_Y ) # Shorting         \n",
    "            else:\n",
    "                return ( 1 ) # Not opening trade\n",
    "\n",
    "        \"\"\"\n",
    "        Use all of the historical data, and the last 10 day data, compare the cross over\n",
    "        \"\"\"\n",
    "        def strat4( idx, df_10d, pred, next_vals_Y, factor ):\n",
    "\n",
    "            ## Get total historical average\n",
    "            mom_avg_all = np.average( ff_data.iloc[:idx, 3] )\n",
    "            mom_avg_10d = np.average( df_10d[factor] )\n",
    "\n",
    "            ## Determine whether to open a position, and long vs. short\n",
    "            if ( (mom_avg_10d > mom_avg_all ) and (pred > mom_avg_10d) ):\n",
    "                return ( 1 - next_vals_Y ) # Shorting\n",
    "            elif ( (mom_avg_10d > mom_avg_all ) and (pred > mom_avg_10d) ):\n",
    "                return ( 1 + next_vals_Y ) # Longing\n",
    "            else:\n",
    "                return ( 1 ) # Not opening trade\n",
    "        \n",
    "        # Collect all return streams from the trading strategies here\n",
    "        v_0 = strat0( idx, df_10d, pred, next_vals_Y, factor )\n",
    "        v_1 = strat1( idx, df_10d, pred, next_vals_Y, factor )\n",
    "        v_2 = strat2( idx, df_10d, pred, next_vals_Y, factor )\n",
    "        v_3 = strat3( idx, df_10d, pred, next_vals_Y, factor )\n",
    "        v_4 = strat4( idx, df_10d, pred, next_vals_Y, factor )\n",
    "        \n",
    "        return [v_0, v_1, v_2, v_3, v_4]\n",
    "        \n",
    "    ## Get return series from each of the trading strategies, for both beliefs\n",
    "    V_tf = trendfollow_strats( idx, df_10d, pred, next_vals_Y, factor )\n",
    "    V_mr = meanrevert_strats( idx, df_10d, pred, next_vals_Y, factor )\n",
    "\n",
    "    return ( V_tf, V_mr )    "
   ]
  },
  {
   "cell_type": "code",
   "execution_count": 5,
   "metadata": {},
   "outputs": [],
   "source": [
    "## Define how far we will be looking into the past\n",
    "N = 10 # To be CV\n",
    "\n",
    "def trading_algo( N, factor_name ):\n",
    "    ## Set up needed containers\n",
    "\n",
    "    # multivariate containers\n",
    "    mv_rsq = []; mv_preds = []\n",
    "\n",
    "    # uniivariate containers\n",
    "    uv_rsq = [[], [], []]\n",
    "    uv_preds = [[], [], []]\n",
    "\n",
    "    # Y-value containers\n",
    "    y_vals = []\n",
    "\n",
    "    ## Define ALL Wealth container\n",
    "    tf_vt_0 = []; tf_vt_1 = []; tf_vt_2 = []; tf_vt_3 = []; tf_vt_4 = [];\n",
    "    mr_vt_0 = []; mr_vt_1 = []; mr_vt_2 = []; mr_vt_3 = []; mr_vt_4 = [];\n",
    "    \n",
    "\n",
    "    ## Loop through the dataframe and regress\n",
    "    for idx in range( N, len(ff_data)-1 ):\n",
    "\n",
    "        ########## Begin Fetching Data ##########\n",
    "\n",
    "        # Fetch the last N datapoints\n",
    "        df = ff_data.iloc[idx-N:idx, [0,1,2,3]]\n",
    "\n",
    "        # Fetch current values and next values to see how we performed\n",
    "        curr_vals_X = np.array( ff_data.iloc[idx-1, [0,1,2]] ) \n",
    "        next_vals_Y = np.array( ff_data.iloc[idx, 3] )\n",
    "\n",
    "        # Store the (real) y-val\n",
    "        y_vals.append( next_vals_Y )\n",
    "\n",
    "        ########## Finish Fetching Data ##########\n",
    "\n",
    "        ########## Begin Regressions / Prediction ##########\n",
    "\n",
    "        # Multivariate #\n",
    "        mv_betas, mv_rsq = perform_mv_ff_regerssion( df, factor_name )\n",
    "        mv_pred = mv_prediction( mv_betas, curr_vals_X )\n",
    "        mv_preds.append( mv_pred )\n",
    "\n",
    "        # Univariate #\n",
    "        for i, col in enumerate( df.columns.tolist()[:-1] ):\n",
    "            # Regress\n",
    "            uv_beta, uv_rsq_val = perform_uv_ff_regerssion( df, col, factor_name )\n",
    "\n",
    "            # Predict \n",
    "            uv_pred = uv_prediction(uv_beta, curr_vals_X[i]) \n",
    "\n",
    "            # Store\n",
    "            uv_rsq[i].append( uv_rsq_val ); uv_preds[i].append(uv_pred)\n",
    "\n",
    "        ########## Finish Regressions / Prediction ##########\n",
    "\n",
    "        ########## Begin Trading / Wealth ##########\n",
    "\n",
    "        # Extract trading strategy results\n",
    "        v_tf, v_mr = trading_strategies( idx, df, mv_pred, next_vals_Y, factor_name )\n",
    "        \n",
    "        # Store trend following results\n",
    "        tf_vt_0.append( v_tf[0] ); tf_vt_1.append( v_tf[1] )\n",
    "        tf_vt_2.append( v_tf[2] ); tf_vt_3.append( v_tf[3] )\n",
    "        tf_vt_4.append( v_tf[4] ); \n",
    "\n",
    "        # Store mean reverting results\n",
    "        mr_vt_0.append( v_mr[0] ); mr_vt_1.append( v_mr[1] )\n",
    "        mr_vt_2.append( v_mr[2] ); mr_vt_3.append( v_mr[3] )\n",
    "        mr_vt_4.append( v_mr[4] ); \n",
    "\n",
    "        ########## Finish Trading / Wealth ##########\n",
    "        \n",
    "    ## Gather stats\n",
    "    stats_df = gather_stats( uv_rsq, uv_preds, mv_rsq, mv_preds, y_vals )\n",
    "    \n",
    "    out_tf_rets = [tf_vt_0, tf_vt_1, tf_vt_2, tf_vt_3, tf_vt_4]\n",
    "    out_mr_rets = [mr_vt_0, mr_vt_1, mr_vt_2, mr_vt_3, mr_vt_4]\n",
    "    \n",
    "    out_tf_vt = [ np.cumprod(elm) for elm in out_tf_rets ]\n",
    "    out_mr_vt = [ np.cumprod(elm) for elm in out_mr_rets ]\n",
    "    \n",
    "    return ( stats_df, out_tf_vt, out_mr_vt, out_tf_rets, out_mr_rets )"
   ]
  },
  {
   "cell_type": "markdown",
   "metadata": {},
   "source": [
    "## Timing the Momentum Factor"
   ]
  },
  {
   "cell_type": "code",
   "execution_count": 6,
   "metadata": {},
   "outputs": [],
   "source": [
    "stats, tf_vt, mr_vt, tf_rets, mr_rets = trading_algo(10, \"Mom\")"
   ]
  },
  {
   "cell_type": "code",
   "execution_count": 7,
   "metadata": {},
   "outputs": [
    {
     "data": {
      "text/html": [
       "<div>\n",
       "<style scoped>\n",
       "    .dataframe tbody tr th:only-of-type {\n",
       "        vertical-align: middle;\n",
       "    }\n",
       "\n",
       "    .dataframe tbody tr th {\n",
       "        vertical-align: top;\n",
       "    }\n",
       "\n",
       "    .dataframe thead th {\n",
       "        text-align: right;\n",
       "    }\n",
       "</style>\n",
       "<table border=\"1\" class=\"dataframe\">\n",
       "  <thead>\n",
       "    <tr style=\"text-align: right;\">\n",
       "      <th></th>\n",
       "      <th>MV</th>\n",
       "      <th>UV_INDPRO</th>\n",
       "      <th>UV_Mkt</th>\n",
       "      <th>UV_factor_mom</th>\n",
       "    </tr>\n",
       "  </thead>\n",
       "  <tbody>\n",
       "    <tr>\n",
       "      <th>Avg_Adj_R^2</th>\n",
       "      <td>-0.0739552</td>\n",
       "      <td>-0.0110322</td>\n",
       "      <td>0.000329836</td>\n",
       "      <td>0.0150152</td>\n",
       "    </tr>\n",
       "    <tr>\n",
       "      <th>MSE</th>\n",
       "      <td>0.0037566</td>\n",
       "      <td>0.00331547</td>\n",
       "      <td>0.00334427</td>\n",
       "      <td>0.00298129</td>\n",
       "    </tr>\n",
       "  </tbody>\n",
       "</table>\n",
       "</div>"
      ],
      "text/plain": [
       "                    MV   UV_INDPRO       UV_Mkt UV_factor_mom\n",
       "Avg_Adj_R^2 -0.0739552  -0.0110322  0.000329836     0.0150152\n",
       "MSE          0.0037566  0.00331547   0.00334427    0.00298129"
      ]
     },
     "execution_count": 7,
     "metadata": {},
     "output_type": "execute_result"
    }
   ],
   "source": [
    "stats"
   ]
  },
  {
   "cell_type": "code",
   "execution_count": 8,
   "metadata": {},
   "outputs": [
    {
     "name": "stdout",
     "output_type": "stream",
     "text": [
      "\n",
      " ====== TREND FOLLOWING STRATEGIES ======\n",
      "\n",
      "Strategy 0: Sharpe Ratio (-0.2923347998672441, -0.01770328747386596, 0.06055826224556715)\n",
      "Strategy 1: Sharpe Ratio (-0.06233201730587966, -0.00576893946203505, 0.09255178496350185)\n",
      "Strategy 2: Sharpe Ratio (0.31282286293821315, 0.05514466021738218, 0.1762807861913661)\n",
      "Strategy 3: Sharpe Ratio (0.3440593994714535, 0.06058803321676853, 0.17609759625763546)\n",
      "Strategy 4: Sharpe Ratio (0.213389683622213, 0.019140428756425854, 0.08969706703493802)\n"
     ]
    }
   ],
   "source": [
    "print( \"\\n ====== TREND FOLLOWING STRATEGIES ======\\n\" )\n",
    "for i, v_t in enumerate( tf_vt ):\n",
    "    V_t = np.array(v_t)\n",
    "    print( \"Strategy {}: Sharpe Ratio {}\".format( i, get_sharpe_ratio(V_t) ) )"
   ]
  },
  {
   "cell_type": "code",
   "execution_count": 9,
   "metadata": {},
   "outputs": [
    {
     "name": "stdout",
     "output_type": "stream",
     "text": [
      "\n",
      " ====== MEAN REVERTING STRATEGIES ======\n",
      "\n",
      "Strategy 0: Sharpe Ratio (0.23498116420629847, 0.0142300509647737, 0.06055826224556715)\n",
      "Strategy 1: Sharpe Ratio (-0.04104429267323796, -0.003798722549472555, 0.09255178496350187)\n",
      "Strategy 2: Sharpe Ratio (-0.4719311203551078, -0.08319238892437064, 0.17628078619136614)\n",
      "Strategy 3: Sharpe Ratio (-0.49914265535090985, -0.0878978217969486, 0.17609759625763546)\n",
      "Strategy 4: Sharpe Ratio (-0.29881212489884124, -0.026802571197903635, 0.08969706703493802)\n"
     ]
    }
   ],
   "source": [
    "print( \"\\n ====== MEAN REVERTING STRATEGIES ======\\n\" )\n",
    "for i, v_t in enumerate( mr_vt ):\n",
    "    V_t = np.array(v_t)\n",
    "    print( \"Strategy {}: Sharpe Ratio {}\".format( i, get_sharpe_ratio(V_t) ) )"
   ]
  },
  {
   "cell_type": "markdown",
   "metadata": {},
   "source": [
    "Using the function above, let's determine the optimal N via the output sharpe ratio. "
   ]
  },
  {
   "cell_type": "markdown",
   "metadata": {},
   "source": [
    "## Get the table needed for the powerpoint"
   ]
  },
  {
   "cell_type": "code",
   "execution_count": 12,
   "metadata": {},
   "outputs": [],
   "source": [
    "ppt_df = pd.DataFrame( columns=[\"sharpe\", \"mu\", \"sigma\"], \\\n",
    "                       index=[\"tf_strat_{}\".format(i) for i in range(5)] + \\\n",
    "                             [\"mr_strat_{}\".format(i) for i in range(5)] )\n",
    "\n",
    "for i in range( len(tf_vt) ):\n",
    "    ppt_df.iloc[i,:] = get_sharpe_ratio( np.array(tf_vt[i]) )\n",
    "    \n",
    "for j in range( 5, 5+len(tf_vt) ):\n",
    "    ppt_df.iloc[j,:] = get_sharpe_ratio( np.array(mr_vt[j-5]) )\n",
    "    \n",
    "# Save to csv\n",
    "ppt_df.to_csv( \"./ppt_df1.csv\" )"
   ]
  },
  {
   "cell_type": "markdown",
   "metadata": {},
   "source": [
    "## Calculating Optimal Lookback Period"
   ]
  },
  {
   "cell_type": "code",
   "execution_count": 13,
   "metadata": {},
   "outputs": [],
   "source": [
    "# ## Get data\n",
    "# Ns = [N for N in range(10,25)]\n",
    "# sharpes = [ trading_algo(N, \"Mom\")[2] for N in Ns ] \n",
    "\n",
    "# ## Create plot of Sharpes vs. Lookback window\n",
    "# plt.figure(figsize=(12,8)); plt.title(\"Sharpe vs. N (Lookback Window Period)\")\n",
    "# plt.xlabel(\"N\"); plt.ylabel(\"Sharpe\")\n",
    "# plt.plot( Ns, sharpes )\n",
    "\n",
    "# ## Get optimal N\n",
    "# N_star = Ns[ np.argmax( sharpes ) ]\n",
    "# N_star"
   ]
  },
  {
   "cell_type": "markdown",
   "metadata": {},
   "source": [
    "## Benchmark: Long only, entire time Momentum factor"
   ]
  },
  {
   "cell_type": "code",
   "execution_count": 14,
   "metadata": {},
   "outputs": [
    {
     "data": {
      "text/plain": [
       "(0.3658330321810258, 0.06404172541485265, 0.1750572523018172)"
      ]
     },
     "execution_count": 14,
     "metadata": {},
     "output_type": "execute_result"
    }
   ],
   "source": [
    "get_sharpe_ratio( np.cumprod( 1 + np.array(ff_data.Mom) ) )"
   ]
  },
  {
   "cell_type": "markdown",
   "metadata": {},
   "source": [
    "## Timing the Value Factor"
   ]
  },
  {
   "cell_type": "code",
   "execution_count": 15,
   "metadata": {},
   "outputs": [],
   "source": [
    "## Get the value data\n",
    "all_ff_data = pd.read_csv( \"./Data/DataSrcs/ff_data.csv\" )\n",
    "all_ff_data.Date = all_ff_data.Date.apply( lambda x: datetime.strptime( str(x), \"%Y%m\" ) )\n",
    "all_ff_data.index = pd.to_datetime( all_ff_data.Date )\n",
    "all_ff_data = all_ff_data.drop( [\"Date\", \"Mkt-RF\", \"SMB\", \"RMW\", \"CMA\", \"RF\"], axis=1 )\n",
    "hml_data = all_ff_data[ (all_ff_data.index >= ff_data.index[0]) & (all_ff_data.index <= ff_data.index[-1]) ]"
   ]
  },
  {
   "cell_type": "markdown",
   "metadata": {},
   "source": [
    "## Constructing the \"Momentum of Factor\" Series"
   ]
  },
  {
   "cell_type": "code",
   "execution_count": 16,
   "metadata": {},
   "outputs": [],
   "source": [
    "## Drop the momentum related columns\n",
    "ff_data = ff_data.drop( [\"factor_mom\", \"Mom\"], axis=1 )\n",
    "\n",
    "## Get the wealth process\n",
    "ff_data[\"Val\"] = hml_data / 100\n",
    "ff_data[\"Vt_val\"] = np.cumprod( np.array(ff_data.Val) + 1 )\n",
    "\n",
    "## Populate the momentum of factor series\n",
    "a = 11; b = 2\n",
    "val_list = []; date_list = []\n",
    "for idx in range( a, len(ff_data.index) ):\n",
    "    \n",
    "    date_list.append( ff_data.index[idx] )\n",
    "\n",
    "    ret12 = (ff_data.iloc[idx,3] / ff_data.iloc[idx-a,3]) - 1\n",
    "    ret2  = (ff_data.iloc[idx,3] / ff_data.iloc[idx-b,3]) - 1\n",
    "\n",
    "    val_list.append( ret12 - ret2 )\n",
    "    \n",
    "## Store the factor momentum series\n",
    "ff_data[\"factor_val\"] = pd.Series( data=val_list, index=date_list )\n",
    "\n",
    "## Remove the nan values\n",
    "ff_data = ff_data.iloc[a:, :]\n",
    "\n",
    "## Drop unneeded columns\n",
    "ff_data = ff_data.drop( [\"Vt_val\"], axis=1 )\n",
    "ff_data = ff_data.loc[:, [\"INDPRO\", \"Mkt\", \"factor_val\", \"Val\"]]"
   ]
  },
  {
   "cell_type": "markdown",
   "metadata": {},
   "source": [
    "## Now we can do the same analysis as before"
   ]
  },
  {
   "cell_type": "code",
   "execution_count": 17,
   "metadata": {},
   "outputs": [],
   "source": [
    "stats, tf_vt, mr_vt, tf_rets, mr_rets = trading_algo(10, \"Val\")"
   ]
  },
  {
   "cell_type": "code",
   "execution_count": 18,
   "metadata": {},
   "outputs": [
    {
     "data": {
      "text/html": [
       "<div>\n",
       "<style scoped>\n",
       "    .dataframe tbody tr th:only-of-type {\n",
       "        vertical-align: middle;\n",
       "    }\n",
       "\n",
       "    .dataframe tbody tr th {\n",
       "        vertical-align: top;\n",
       "    }\n",
       "\n",
       "    .dataframe thead th {\n",
       "        text-align: right;\n",
       "    }\n",
       "</style>\n",
       "<table border=\"1\" class=\"dataframe\">\n",
       "  <thead>\n",
       "    <tr style=\"text-align: right;\">\n",
       "      <th></th>\n",
       "      <th>MV</th>\n",
       "      <th>UV_INDPRO</th>\n",
       "      <th>UV_Mkt</th>\n",
       "      <th>UV_factor_val</th>\n",
       "    </tr>\n",
       "  </thead>\n",
       "  <tbody>\n",
       "    <tr>\n",
       "      <th>Avg_Adj_R^2</th>\n",
       "      <td>0.105443</td>\n",
       "      <td>0.0119199</td>\n",
       "      <td>0.00323605</td>\n",
       "      <td>0.0871338</td>\n",
       "    </tr>\n",
       "    <tr>\n",
       "      <th>MSE</th>\n",
       "      <td>0.00123204</td>\n",
       "      <td>0.00106734</td>\n",
       "      <td>0.000974514</td>\n",
       "      <td>0.00107057</td>\n",
       "    </tr>\n",
       "  </tbody>\n",
       "</table>\n",
       "</div>"
      ],
      "text/plain": [
       "                     MV   UV_INDPRO       UV_Mkt UV_factor_val\n",
       "Avg_Adj_R^2    0.105443   0.0119199   0.00323605     0.0871338\n",
       "MSE          0.00123204  0.00106734  0.000974514    0.00107057"
      ]
     },
     "execution_count": 18,
     "metadata": {},
     "output_type": "execute_result"
    }
   ],
   "source": [
    "stats"
   ]
  },
  {
   "cell_type": "code",
   "execution_count": 19,
   "metadata": {},
   "outputs": [
    {
     "name": "stdout",
     "output_type": "stream",
     "text": [
      "\n",
      " ====== TREND FOLLOWING STRATEGIES ======\n",
      "\n",
      "Strategy 0: Sharpe Ratio (0.3337078436015478, 0.012285447896600799, 0.03681498092466118)\n",
      "Strategy 1: Sharpe Ratio (0.05692448173993779, 0.00249157794987509, 0.043769883777914444)\n",
      "Strategy 2: Sharpe Ratio (0.3205902855864937, 0.031898663942597105, 0.09949978329580732)\n",
      "Strategy 3: Sharpe Ratio (0.28639208228904, 0.028346122941306673, 0.09897662922363358)\n",
      "Strategy 4: Sharpe Ratio (0.29068655722841824, 0.011072331396809965, 0.03809027669659127)\n"
     ]
    }
   ],
   "source": [
    "print( \"\\n ====== TREND FOLLOWING STRATEGIES ======\\n\" )\n",
    "for i, v_t in enumerate( tf_vt ):\n",
    "    V_t = np.array(v_t)\n",
    "    print( \"Strategy {}: Sharpe Ratio {}\".format( i, get_sharpe_ratio(V_t) ) )"
   ]
  },
  {
   "cell_type": "code",
   "execution_count": 20,
   "metadata": {},
   "outputs": [
    {
     "name": "stdout",
     "output_type": "stream",
     "text": [
      "\n",
      " ====== MEAN REVERTING STRATEGIES ======\n",
      "\n",
      "Strategy 0: Sharpe Ratio (-0.3663682367664358, -0.013487839647958078, 0.03681498092466116)\n",
      "Strategy 1: Sharpe Ratio (-0.10043011965074942, -0.004395814664915343, 0.04376988377791444)\n",
      "Strategy 2: Sharpe Ratio (-0.40771967084345406, -0.04056801889436157, 0.09949978329580732)\n",
      "Strategy 3: Sharpe Ratio (-0.3751787998452913, -0.03713393296485523, 0.09897662922363358)\n",
      "Strategy 4: Sharpe Ratio (-0.3254164429652012, -0.012395202354165025, 0.03809027669659126)\n"
     ]
    }
   ],
   "source": [
    "print( \"\\n ====== MEAN REVERTING STRATEGIES ======\\n\" )\n",
    "for i, v_t in enumerate( mr_vt ):\n",
    "    V_t = np.array(v_t)\n",
    "    print( \"Strategy {}: Sharpe Ratio {}\".format( i, get_sharpe_ratio(V_t) ) )"
   ]
  },
  {
   "cell_type": "code",
   "execution_count": 21,
   "metadata": {},
   "outputs": [],
   "source": [
    "ppt_df = pd.DataFrame( columns=[\"sharpe\", \"mu\", \"sigma\"], \\\n",
    "                       index=[\"tf_strat_{}\".format(i) for i in range(5)] + \\\n",
    "                             [\"mr_strat_{}\".format(i) for i in range(5)] )\n",
    "\n",
    "for i in range( len(tf_vt) ):\n",
    "    ppt_df.iloc[i,:] = get_sharpe_ratio( np.array(tf_vt[i]) )\n",
    "    \n",
    "for j in range( 5, 5+len(tf_vt) ):\n",
    "    ppt_df.iloc[j,:] = get_sharpe_ratio( np.array(mr_vt[j-5]) )\n",
    "    \n",
    "# Save to csv\n",
    "ppt_df.to_csv( \"./ppt_df2.csv\" )"
   ]
  },
  {
   "cell_type": "markdown",
   "metadata": {},
   "source": [
    "## Benchmark: Long only, entire time Value factor"
   ]
  },
  {
   "cell_type": "code",
   "execution_count": 22,
   "metadata": {},
   "outputs": [
    {
     "data": {
      "text/plain": [
       "(0.3110785042906252, 0.03137513944838055, 0.10085923333059463)"
      ]
     },
     "execution_count": 22,
     "metadata": {},
     "output_type": "execute_result"
    }
   ],
   "source": [
    "get_sharpe_ratio( np.cumprod( 1 + np.array(ff_data.Val) ) )"
   ]
  },
  {
   "cell_type": "code",
   "execution_count": null,
   "metadata": {},
   "outputs": [],
   "source": []
  },
  {
   "cell_type": "code",
   "execution_count": null,
   "metadata": {},
   "outputs": [],
   "source": []
  },
  {
   "cell_type": "code",
   "execution_count": null,
   "metadata": {},
   "outputs": [],
   "source": []
  },
  {
   "cell_type": "code",
   "execution_count": null,
   "metadata": {},
   "outputs": [],
   "source": []
  },
  {
   "cell_type": "code",
   "execution_count": null,
   "metadata": {},
   "outputs": [],
   "source": []
  }
 ],
 "metadata": {
  "kernelspec": {
   "display_name": "Python 3",
   "language": "python",
   "name": "python3"
  },
  "language_info": {
   "codemirror_mode": {
    "name": "ipython",
    "version": 3
   },
   "file_extension": ".py",
   "mimetype": "text/x-python",
   "name": "python",
   "nbconvert_exporter": "python",
   "pygments_lexer": "ipython3",
   "version": "3.7.0"
  }
 },
 "nbformat": 4,
 "nbformat_minor": 2
}
