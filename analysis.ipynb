{
 "cells": [
  {
   "cell_type": "markdown",
   "metadata": {},
   "source": [
    "# Main Analysis\n",
    "\n",
    "Done w/ the data created from the `data_ingestion.ipynb`."
   ]
  },
  {
   "cell_type": "code",
   "execution_count": 1,
   "metadata": {},
   "outputs": [],
   "source": [
    "import pandas as pd\n",
    "import numpy as np\n",
    "import matplotlib.pyplot as plt\n",
    "from datetime import datetime"
   ]
  },
  {
   "cell_type": "code",
   "execution_count": 6,
   "metadata": {},
   "outputs": [
    {
     "data": {
      "text/html": [
       "<div>\n",
       "<style scoped>\n",
       "    .dataframe tbody tr th:only-of-type {\n",
       "        vertical-align: middle;\n",
       "    }\n",
       "\n",
       "    .dataframe tbody tr th {\n",
       "        vertical-align: top;\n",
       "    }\n",
       "\n",
       "    .dataframe thead th {\n",
       "        text-align: right;\n",
       "    }\n",
       "</style>\n",
       "<table border=\"1\" class=\"dataframe\">\n",
       "  <thead>\n",
       "    <tr style=\"text-align: right;\">\n",
       "      <th></th>\n",
       "      <th>Open</th>\n",
       "      <th>High</th>\n",
       "      <th>Low</th>\n",
       "      <th>Close</th>\n",
       "      <th>Adj Close</th>\n",
       "      <th>Volume</th>\n",
       "      <th>FEDFUNDS</th>\n",
       "      <th>INDPRO</th>\n",
       "      <th>VAL^US</th>\n",
       "      <th>MOM^US</th>\n",
       "    </tr>\n",
       "    <tr>\n",
       "      <th>Date</th>\n",
       "      <th></th>\n",
       "      <th></th>\n",
       "      <th></th>\n",
       "      <th></th>\n",
       "      <th></th>\n",
       "      <th></th>\n",
       "      <th></th>\n",
       "      <th></th>\n",
       "      <th></th>\n",
       "      <th></th>\n",
       "    </tr>\n",
       "  </thead>\n",
       "  <tbody>\n",
       "    <tr>\n",
       "      <th>1972-02-01</th>\n",
       "      <td>103.940002</td>\n",
       "      <td>107.160004</td>\n",
       "      <td>103.099998</td>\n",
       "      <td>106.570000</td>\n",
       "      <td>106.570000</td>\n",
       "      <td>376260000.0</td>\n",
       "      <td>3.29</td>\n",
       "      <td>41.6800</td>\n",
       "      <td>-6.0%</td>\n",
       "      <td>4.3%</td>\n",
       "    </tr>\n",
       "    <tr>\n",
       "      <th>1972-03-01</th>\n",
       "      <td>106.570000</td>\n",
       "      <td>109.750000</td>\n",
       "      <td>105.860001</td>\n",
       "      <td>107.199997</td>\n",
       "      <td>107.199997</td>\n",
       "      <td>403650000.0</td>\n",
       "      <td>3.83</td>\n",
       "      <td>41.9758</td>\n",
       "      <td>-1.0%</td>\n",
       "      <td>1.3%</td>\n",
       "    </tr>\n",
       "    <tr>\n",
       "      <th>1972-04-01</th>\n",
       "      <td>107.199997</td>\n",
       "      <td>111.110001</td>\n",
       "      <td>106.180000</td>\n",
       "      <td>107.669998</td>\n",
       "      <td>107.669998</td>\n",
       "      <td>367990000.0</td>\n",
       "      <td>4.17</td>\n",
       "      <td>42.4207</td>\n",
       "      <td>-0.4%</td>\n",
       "      <td>2.1%</td>\n",
       "    </tr>\n",
       "    <tr>\n",
       "      <th>1972-05-01</th>\n",
       "      <td>107.669998</td>\n",
       "      <td>111.480003</td>\n",
       "      <td>103.830002</td>\n",
       "      <td>109.529999</td>\n",
       "      <td>109.529999</td>\n",
       "      <td>335850000.0</td>\n",
       "      <td>4.27</td>\n",
       "      <td>42.3956</td>\n",
       "      <td>-5.7%</td>\n",
       "      <td>5.5%</td>\n",
       "    </tr>\n",
       "    <tr>\n",
       "      <th>1972-06-01</th>\n",
       "      <td>109.529999</td>\n",
       "      <td>110.510002</td>\n",
       "      <td>105.940002</td>\n",
       "      <td>107.139999</td>\n",
       "      <td>107.139999</td>\n",
       "      <td>314510000.0</td>\n",
       "      <td>4.46</td>\n",
       "      <td>42.5178</td>\n",
       "      <td>-3.6%</td>\n",
       "      <td>2.3%</td>\n",
       "    </tr>\n",
       "  </tbody>\n",
       "</table>\n",
       "</div>"
      ],
      "text/plain": [
       "                  Open        High         Low       Close   Adj Close  \\\n",
       "Date                                                                     \n",
       "1972-02-01  103.940002  107.160004  103.099998  106.570000  106.570000   \n",
       "1972-03-01  106.570000  109.750000  105.860001  107.199997  107.199997   \n",
       "1972-04-01  107.199997  111.110001  106.180000  107.669998  107.669998   \n",
       "1972-05-01  107.669998  111.480003  103.830002  109.529999  109.529999   \n",
       "1972-06-01  109.529999  110.510002  105.940002  107.139999  107.139999   \n",
       "\n",
       "                 Volume  FEDFUNDS   INDPRO VAL^US MOM^US  \n",
       "Date                                                      \n",
       "1972-02-01  376260000.0      3.29  41.6800  -6.0%   4.3%  \n",
       "1972-03-01  403650000.0      3.83  41.9758  -1.0%   1.3%  \n",
       "1972-04-01  367990000.0      4.17  42.4207  -0.4%   2.1%  \n",
       "1972-05-01  335850000.0      4.27  42.3956  -5.7%   5.5%  \n",
       "1972-06-01  314510000.0      4.46  42.5178  -3.6%   2.3%  "
      ]
     },
     "execution_count": 6,
     "metadata": {},
     "output_type": "execute_result"
    }
   ],
   "source": [
    "data = pd.read_csv(\"./Data/dataset_2018-11-21.csv\")\n",
    "data.index = data.Date\n",
    "data = data.drop([\"Date\"], axis=1)\n",
    "data.head()"
   ]
  },
  {
   "cell_type": "code",
   "execution_count": 7,
   "metadata": {},
   "outputs": [],
   "source": [
    "!open AMproject.pdf"
   ]
  },
  {
   "cell_type": "code",
   "execution_count": null,
   "metadata": {},
   "outputs": [],
   "source": []
  },
  {
   "cell_type": "code",
   "execution_count": null,
   "metadata": {},
   "outputs": [],
   "source": []
  },
  {
   "cell_type": "code",
   "execution_count": null,
   "metadata": {},
   "outputs": [],
   "source": []
  },
  {
   "cell_type": "code",
   "execution_count": null,
   "metadata": {},
   "outputs": [],
   "source": []
  },
  {
   "cell_type": "code",
   "execution_count": null,
   "metadata": {},
   "outputs": [],
   "source": []
  },
  {
   "cell_type": "code",
   "execution_count": null,
   "metadata": {},
   "outputs": [],
   "source": []
  },
  {
   "cell_type": "code",
   "execution_count": null,
   "metadata": {},
   "outputs": [],
   "source": []
  }
 ],
 "metadata": {
  "kernelspec": {
   "display_name": "Python 3",
   "language": "python",
   "name": "python3"
  },
  "language_info": {
   "codemirror_mode": {
    "name": "ipython",
    "version": 3
   },
   "file_extension": ".py",
   "mimetype": "text/x-python",
   "name": "python",
   "nbconvert_exporter": "python",
   "pygments_lexer": "ipython3",
   "version": "3.7.0"
  }
 },
 "nbformat": 4,
 "nbformat_minor": 2
}
