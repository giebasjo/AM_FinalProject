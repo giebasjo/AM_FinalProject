{
 "cells": [
  {
   "cell_type": "markdown",
   "metadata": {},
   "source": [
    "# Main Analysis\n",
    "\n",
    "Done w/ the data created from the `data_ingestion.ipynb`."
   ]
  },
  {
   "cell_type": "code",
   "execution_count": 40,
   "metadata": {},
   "outputs": [],
   "source": [
    "import pandas as pd\n",
    "import numpy as np\n",
    "import matplotlib.pyplot as plt\n",
    "import seaborn as sns; sns.set()\n",
    "from datetime import datetime\n",
    "\n",
    "import statsmodels.formula.api as smf\n",
    "from sklearn.metrics import mean_squared_error\n",
    "\n",
    "def model2results( lm ):\n",
    "    \n",
    "    tmp = pd.DataFrame( columns=[\"Estimates\", \"tvals\", \"pvals\"] )\n",
    "    tmp[\"Estimates\"] = lm.params; tmp[\"tvals\"] = lm.tvalues; tmp[\"pvals\"] = lm.pvalues\n",
    "    \n",
    "    return (tmp, lm.rsquared_adj)"
   ]
  },
  {
   "cell_type": "code",
   "execution_count": 9,
   "metadata": {},
   "outputs": [],
   "source": [
    "## Import data\n",
    "ff_data = pd.read_csv(\"./Data/2018-12-04_Data/ff_dataset_2018-12-04.csv\")\n",
    "ff_data.index = ff_data.Date\n",
    "ff_data = ff_data.drop([\"Date\"], axis=1)\n",
    "\n",
    "## Rename the \"Mkt-RF\" column\n",
    "ff_data.columns = [\"Volume\", \"INDPRO\", \"Mkt\", \"SMB\", \"Mom\"]"
   ]
  },
  {
   "cell_type": "markdown",
   "metadata": {},
   "source": [
    "## Working with Fama-French Data\n",
    "\n",
    "Using a rolling-window approach, we will loop through the dataframe fetching the last $N$ (to be optimized) dates of data to then regress and predict the next $Mom$ value."
   ]
  },
  {
   "cell_type": "code",
   "execution_count": 117,
   "metadata": {},
   "outputs": [],
   "source": [
    "def perform_mv_ff_regerssion( df ):\n",
    "    lm = smf.ols( 'Mom ~ INDPRO + Mkt + SMB', data=df ).fit()\n",
    "    betas = np.array(lm.params); rsq = lm.rsquared_adj\n",
    "\n",
    "    return (betas, rsq)\n",
    "    \n",
    "def perform_uv_ff_regerssion( df, colname ):\n",
    "    lm = smf.ols( \"Mom ~ {}\".format(colname), data=df ).fit()\n",
    "    betas = np.array(lm.params); rsq = lm.rsquared_adj\n",
    "\n",
    "    return (betas, rsq)\n",
    "\n",
    "def mv_prediction( betas, curr_vals ):\n",
    "    pred = sum( np.multiply( betas[1:], curr_vals ) ) + betas[0]\n",
    "    return pred\n",
    "\n",
    "def uv_prediction( beta, curr_vals ):\n",
    "    pred = beta[0] + beta[1]*curr_vals[i]\n",
    "    return pred\n",
    "\n",
    "def gather_stats( uv_rsq, uv_preds, mv_rsq, mv_preds, y_vals ):\n",
    "    \n",
    "    ## Gather univariate stats\n",
    "\n",
    "    # INDPRO\n",
    "    indpro_avg_rsq = np.average( uv_rsq[0] )\n",
    "    indpro_mse     = mean_squared_error( uv_preds[0], y_vals )\n",
    "\n",
    "    # MKT\n",
    "    mkt_avg_rsq    = np.average( uv_rsq[1] )\n",
    "    mkt_mse        = mean_squared_error( uv_preds[1], y_vals )\n",
    "\n",
    "    # SMB\n",
    "    smb_avg_rsq    = np.average( uv_rsq[2] )\n",
    "    smb_mse        = mean_squared_error( uv_preds[2], y_vals )\n",
    "\n",
    "    ## Gather multivariate stats\n",
    "    \n",
    "    mv_avg_rsq = np.average( mv_rsq )\n",
    "    mv_mse     = mean_squared_error( mv_preds, y_vals )\n",
    "    \n",
    "    ## Form out dataframe\n",
    "    stats_df = pd.DataFrame( columns = [\"MV\"] +  [\"UV_{}\".format(col) for col in ff_data.columns[1:-1]], \\\n",
    "                         index = [\"Avg_Adj_R^2\", \"MSE\"] )\n",
    "    stats_df.iloc[0, :] = [mv_avg_rsq, indpro_avg_rsq, mkt_avg_rsq, smb_avg_rsq]\n",
    "    stats_df.iloc[1, :] = [mv_mse, indpro_mse, mkt_mse, smb_mse]\n",
    "    \n",
    "    return stats_df"
   ]
  },
  {
   "cell_type": "code",
   "execution_count": 113,
   "metadata": {},
   "outputs": [],
   "source": [
    "## Define how far we will be looking into the past\n",
    "N = 10 # To be CV\n",
    "\n",
    "## Set up needed containers\n",
    "\n",
    "# multivariate containers\n",
    "mv_rsq = []; mv_preds = []\n",
    "\n",
    "# uniivariate containers\n",
    "uv_rsq = [[], [], []]\n",
    "uv_preds = [[], [], []]\n",
    "\n",
    "# Y-value containers\n",
    "y_vals = []\n",
    "\n",
    "## Loop through the dataframe and regress\n",
    "for idx in range( N, len(ff_data)-1 ):\n",
    "    \n",
    "    # Fetch the last N datapoints\n",
    "    df = ff_data.iloc[idx-N:idx, [1,2,3,4]]\n",
    "    \n",
    "    # Fetch current values and next values to see how we performed\n",
    "    curr_vals_X = np.array( ff_data.iloc[idx-1, [1,2,3]] ) \n",
    "    next_vals_Y = np.array( ff_data.iloc[idx, 4] )\n",
    "    \n",
    "    # Store the (real) y-val\n",
    "    y_vals.append( next_vals_Y )\n",
    "    \n",
    "    ########## Begin Regressions / Prediction ##########\n",
    "    \n",
    "    # Multivariate #\n",
    "    mv_betas, mv_rsq = perform_mv_ff_regerssion( df )\n",
    "    mv_pred = mv_prediction( mv_betas, curr_vals_X )\n",
    "    mv_preds.append( mv_pred )\n",
    "    \n",
    "    # Univariate #\n",
    "    for i, col in enumerate( df.columns.tolist()[:-1] ):\n",
    "        # Regress\n",
    "        uv_beta, uv_rsq_val = perform_uv_ff_regerssion( df, col )\n",
    "        \n",
    "        # Predict \n",
    "        uv_pred = uv_prediction(uv_beta, curr_vals_X) \n",
    "        \n",
    "        # Store\n",
    "        uv_rsq[i].append( uv_rsq_val ); uv_preds[i].append(uv_pred)\n",
    "\n",
    "    ########## Finish Regressions / Prediction ##########\n",
    "    \n",
    "    ## Gather stats\n",
    "    #stats_df = gather_stats( uv_rsq, uv_preds, mv_rsq, mv_preds )"
   ]
  },
  {
   "cell_type": "code",
   "execution_count": 114,
   "metadata": {},
   "outputs": [],
   "source": [
    "## Gather univariate stats\n",
    "\n",
    "# INDPRO\n",
    "indpro_avg_rsq = np.average( uv_rsq[0] )\n",
    "indpro_mse     = mean_squared_error( uv_preds[0], y_vals )\n",
    "\n",
    "# MKT\n",
    "mkt_avg_rsq    = np.average( uv_rsq[1] )\n",
    "mkt_mse        = mean_squared_error( uv_preds[1], y_vals )\n",
    "\n",
    "# SMB\n",
    "smb_avg_rsq    = np.average( uv_rsq[2] )\n",
    "smb_mse        = mean_squared_error( uv_preds[2], y_vals )\n",
    "\n",
    "## Gather multivariate stats\n",
    "mv_avg_rsq = np.average( mv_rsq )\n",
    "mv_mse     = mean_squared_error( mv_preds, y_vals )"
   ]
  },
  {
   "cell_type": "code",
   "execution_count": 130,
   "metadata": {},
   "outputs": [
    {
     "data": {
      "text/html": [
       "<div>\n",
       "<style scoped>\n",
       "    .dataframe tbody tr th:only-of-type {\n",
       "        vertical-align: middle;\n",
       "    }\n",
       "\n",
       "    .dataframe tbody tr th {\n",
       "        vertical-align: top;\n",
       "    }\n",
       "\n",
       "    .dataframe thead th {\n",
       "        text-align: right;\n",
       "    }\n",
       "</style>\n",
       "<table border=\"1\" class=\"dataframe\">\n",
       "  <thead>\n",
       "    <tr style=\"text-align: right;\">\n",
       "      <th></th>\n",
       "      <th>MV</th>\n",
       "      <th>UV_INDPRO</th>\n",
       "      <th>UV_Mkt</th>\n",
       "      <th>UV_SMB</th>\n",
       "    </tr>\n",
       "  </thead>\n",
       "  <tbody>\n",
       "    <tr>\n",
       "      <th>Avg_Adj_R^2</th>\n",
       "      <td>-0.0780551</td>\n",
       "      <td>-0.0108381</td>\n",
       "      <td>0.00137652</td>\n",
       "      <td>0.000737903</td>\n",
       "    </tr>\n",
       "    <tr>\n",
       "      <th>MSE</th>\n",
       "      <td>0.00376237</td>\n",
       "      <td>0.0032708</td>\n",
       "      <td>0.00330589</td>\n",
       "      <td>0.00326275</td>\n",
       "    </tr>\n",
       "  </tbody>\n",
       "</table>\n",
       "</div>"
      ],
      "text/plain": [
       "                     MV  UV_INDPRO      UV_Mkt       UV_SMB\n",
       "Avg_Adj_R^2  -0.0780551 -0.0108381  0.00137652  0.000737903\n",
       "MSE          0.00376237  0.0032708  0.00330589   0.00326275"
      ]
     },
     "execution_count": 130,
     "metadata": {},
     "output_type": "execute_result"
    }
   ],
   "source": [
    "stats_df = pd.DataFrame( columns = [\"MV\"] +  [\"UV_{}\".format(col) for col in ff_data.columns[1:-1]], \\\n",
    "                         index = [\"Avg_Adj_R^2\", \"MSE\"] )\n",
    "stats_df.iloc[0, :] = [mv_avg_rsq, indpro_avg_rsq, mkt_avg_rsq, smb_avg_rsq]\n",
    "stats_df.iloc[1, :] = [mv_mse, indpro_mse, mkt_mse, smb_mse]\n",
    "stats_df"
   ]
  },
  {
   "cell_type": "code",
   "execution_count": 107,
   "metadata": {},
   "outputs": [],
   "source": [
    "## Define how far we will be looking into the past\n",
    "N = 10 # To be CV"
   ]
  },
  {
   "cell_type": "code",
   "execution_count": 118,
   "metadata": {},
   "outputs": [],
   "source": [
    "def driver( N ):\n",
    "\n",
    "    ## Set up needed containers\n",
    "\n",
    "    # multivariate containers\n",
    "    mv_rsq = []; mv_preds = []\n",
    "\n",
    "    # uniivariate containers\n",
    "    uv_rsq = [[], [], []]\n",
    "    uv_preds = [[], [], []]\n",
    "\n",
    "    # Y-value containers\n",
    "    y_vals = []\n",
    "\n",
    "    ## Loop through the dataframe and regress\n",
    "    for idx in range( N, len(ff_data)-1 ):\n",
    "\n",
    "        # Fetch the last N datapoints\n",
    "        df = ff_data.iloc[idx-N:idx, [1,2,3,4]]\n",
    "\n",
    "        # Fetch current values and next values to see how we performed\n",
    "        curr_vals_X = np.array( ff_data.iloc[idx-1, [1,2,3]] ) \n",
    "        next_vals_Y = np.array( ff_data.iloc[idx, 4] )\n",
    "\n",
    "        # Store the (real) y-val\n",
    "        y_vals.append( next_vals_Y )\n",
    "\n",
    "        ########## Begin Regressions / Prediction ##########\n",
    "\n",
    "        # Multivariate #\n",
    "        mv_betas, mv_rsq = perform_mv_ff_regerssion( df )\n",
    "        mv_pred = mv_prediction( mv_betas, curr_vals_X )\n",
    "        mv_preds.append( mv_pred )\n",
    "\n",
    "        # Univariate #\n",
    "        for i, col in enumerate( df.columns.tolist()[:-1] ):\n",
    "            # Regress\n",
    "            uv_beta, uv_rsq_val = perform_uv_ff_regerssion( df, col )\n",
    "\n",
    "            # Predict \n",
    "            uv_pred = uv_prediction(uv_beta, curr_vals_X) \n",
    "\n",
    "            # Store\n",
    "            uv_rsq[i].append( uv_rsq_val ); uv_preds[i].append(uv_pred)\n",
    "\n",
    "        ########## Finish Regressions / Prediction ##########\n",
    "\n",
    "    ## Gather stats\n",
    "    stats_df = gather_stats( uv_rsq, uv_preds, mv_rsq, mv_preds, y_vals )\n",
    "\n",
    "    return stats_df"
   ]
  },
  {
   "cell_type": "code",
   "execution_count": 119,
   "metadata": {},
   "outputs": [
    {
     "data": {
      "text/html": [
       "<div>\n",
       "<style scoped>\n",
       "    .dataframe tbody tr th:only-of-type {\n",
       "        vertical-align: middle;\n",
       "    }\n",
       "\n",
       "    .dataframe tbody tr th {\n",
       "        vertical-align: top;\n",
       "    }\n",
       "\n",
       "    .dataframe thead th {\n",
       "        text-align: right;\n",
       "    }\n",
       "</style>\n",
       "<table border=\"1\" class=\"dataframe\">\n",
       "  <thead>\n",
       "    <tr style=\"text-align: right;\">\n",
       "      <th></th>\n",
       "      <th>MV</th>\n",
       "      <th>UV_INDPRO</th>\n",
       "      <th>UV_Mkt</th>\n",
       "      <th>UV_SMB</th>\n",
       "    </tr>\n",
       "  </thead>\n",
       "  <tbody>\n",
       "    <tr>\n",
       "      <th>Avg_Adj_R^2</th>\n",
       "      <td>-0.0780551</td>\n",
       "      <td>-0.0108381</td>\n",
       "      <td>0.00137652</td>\n",
       "      <td>0.000737903</td>\n",
       "    </tr>\n",
       "    <tr>\n",
       "      <th>MSE</th>\n",
       "      <td>0.00376237</td>\n",
       "      <td>5.90221</td>\n",
       "      <td>0.00318783</td>\n",
       "      <td>0.00326275</td>\n",
       "    </tr>\n",
       "  </tbody>\n",
       "</table>\n",
       "</div>"
      ],
      "text/plain": [
       "                     MV  UV_INDPRO      UV_Mkt       UV_SMB\n",
       "Avg_Adj_R^2  -0.0780551 -0.0108381  0.00137652  0.000737903\n",
       "MSE          0.00376237    5.90221  0.00318783   0.00326275"
      ]
     },
     "execution_count": 119,
     "metadata": {},
     "output_type": "execute_result"
    }
   ],
   "source": [
    "driver( 10 )"
   ]
  },
  {
   "cell_type": "code",
   "execution_count": 129,
   "metadata": {},
   "outputs": [
    {
     "data": {
      "text/plain": [
       "'UV_SMB'"
      ]
     },
     "execution_count": 129,
     "metadata": {},
     "output_type": "execute_result"
    }
   ],
   "source": [
    "stats_df.columns.tolist()[np.argmin( stats_df.loc[\"MSE\",:].tolist() )]"
   ]
  },
  {
   "cell_type": "code",
   "execution_count": null,
   "metadata": {},
   "outputs": [],
   "source": []
  },
  {
   "cell_type": "code",
   "execution_count": null,
   "metadata": {},
   "outputs": [],
   "source": []
  }
 ],
 "metadata": {
  "kernelspec": {
   "display_name": "Python 3",
   "language": "python",
   "name": "python3"
  },
  "language_info": {
   "codemirror_mode": {
    "name": "ipython",
    "version": 3
   },
   "file_extension": ".py",
   "mimetype": "text/x-python",
   "name": "python",
   "nbconvert_exporter": "python",
   "pygments_lexer": "ipython3",
   "version": "3.7.0"
  }
 },
 "nbformat": 4,
 "nbformat_minor": 2
}
