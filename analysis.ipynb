{
 "cells": [
  {
   "cell_type": "markdown",
   "metadata": {},
   "source": [
    "# Main Analysis\n",
    "\n",
    "Done w/ the data created from the `data_ingestion.ipynb`."
   ]
  },
  {
   "cell_type": "code",
   "execution_count": 5,
   "metadata": {},
   "outputs": [],
   "source": [
    "import pandas as pd\n",
    "import numpy as np\n",
    "import matplotlib.pyplot as plt\n",
    "import seaborn as sns; sns.set()\n",
    "from datetime import datetime\n",
    "\n",
    "import statsmodels.formula.api as smf\n",
    "from sklearn.metrics import mean_squared_error"
   ]
  },
  {
   "cell_type": "code",
   "execution_count": 6,
   "metadata": {},
   "outputs": [],
   "source": [
    "## Import data\n",
    "ff_data = pd.read_csv(\"./Data/2018-12-04_Data/ff_dataset_2018-12-04.csv\")\n",
    "ff_data.index = pd.to_datetime( ff_data.Date )\n",
    "ff_data = ff_data.drop([\"Date\"], axis=1)\n",
    "\n",
    "## Rename the \"Mkt-RF\" column\n",
    "ff_data.columns = [\"Volume\", \"INDPRO\", \"Mkt\", \"SMB\", \"Mom\"]"
   ]
  },
  {
   "cell_type": "markdown",
   "metadata": {},
   "source": [
    "## Working with Fama-French Data\n",
    "\n",
    "Using a rolling-window approach, we will loop through the dataframe fetching the last $N$ (to be optimized) dates of data to then regress and predict the next $Mom$ value."
   ]
  },
  {
   "cell_type": "code",
   "execution_count": 7,
   "metadata": {},
   "outputs": [],
   "source": [
    "def perform_mv_ff_regerssion( df ):\n",
    "    lm = smf.ols( 'Mom ~ INDPRO + Mkt + SMB', data=df ).fit()\n",
    "    betas = np.array(lm.params); rsq = lm.rsquared_adj\n",
    "\n",
    "    return (betas, rsq)\n",
    "    \n",
    "def perform_uv_ff_regerssion( df, colname ):\n",
    "    lm = smf.ols( \"Mom ~ {}\".format(colname), data=df ).fit()\n",
    "    betas = np.array(lm.params); rsq = lm.rsquared_adj\n",
    "\n",
    "    return (betas, rsq)\n",
    "\n",
    "def mv_prediction( betas, curr_vals ):\n",
    "    pred = sum( np.multiply( betas[1:], curr_vals ) ) + betas[0]\n",
    "    return pred\n",
    "\n",
    "def uv_prediction( beta, curr_vals ):\n",
    "    pred = beta[0] + beta[1]*curr_vals #[i]\n",
    "    return pred\n",
    "\n",
    "def gather_stats( uv_rsq, uv_preds, mv_rsq, mv_preds, y_vals ):\n",
    "    \n",
    "    ## Gather univariate stats\n",
    "\n",
    "    # INDPRO\n",
    "    indpro_avg_rsq = np.average( uv_rsq[0] )\n",
    "    indpro_mse     = mean_squared_error( uv_preds[0], y_vals )\n",
    "\n",
    "    # MKT\n",
    "    mkt_avg_rsq    = np.average( uv_rsq[1] )\n",
    "    mkt_mse        = mean_squared_error( uv_preds[1], y_vals )\n",
    "\n",
    "    # SMB\n",
    "    smb_avg_rsq    = np.average( uv_rsq[2] )\n",
    "    smb_mse        = mean_squared_error( uv_preds[2], y_vals )\n",
    "\n",
    "    ## Gather multivariate stats\n",
    "    \n",
    "    mv_avg_rsq = np.average( mv_rsq )\n",
    "    mv_mse     = mean_squared_error( mv_preds, y_vals )\n",
    "    \n",
    "    ## Form out dataframe\n",
    "    stats_df = pd.DataFrame( columns = [\"MV\"] +  [\"UV_{}\".format(col) for col in ff_data.columns[1:-1]], \\\n",
    "                         index = [\"Avg_Adj_R^2\", \"MSE\"] )\n",
    "    stats_df.iloc[0, :] = [mv_avg_rsq, indpro_avg_rsq, mkt_avg_rsq, smb_avg_rsq]\n",
    "    stats_df.iloc[1, :] = [mv_mse, indpro_mse, mkt_mse, smb_mse]\n",
    "    \n",
    "    return stats_df"
   ]
  },
  {
   "cell_type": "code",
   "execution_count": 34,
   "metadata": {},
   "outputs": [],
   "source": [
    "## Define how far we will be looking into the past\n",
    "N = 10 # To be CV\n",
    "\n",
    "def driver( N ):\n",
    "    ## Set up needed containers\n",
    "\n",
    "    # multivariate containers\n",
    "    mv_rsq = []; mv_preds = []\n",
    "\n",
    "    # uniivariate containers\n",
    "    uv_rsq = [[], [], []]\n",
    "    uv_preds = [[], [], []]\n",
    "\n",
    "    # Y-value containers\n",
    "    y_vals = []\n",
    "\n",
    "    ## Define Wealth container\n",
    "    V_t = [1]; V_t_wtc = [1]; trade_dates = [ ff_data.index[N] ]\n",
    "\n",
    "    ## Loop through the dataframe and regress\n",
    "    for idx in range( N, len(ff_data)-1 ):\n",
    "\n",
    "        ########## Begin Fetching Data ##########\n",
    "\n",
    "        # Fetch the last N datapoints\n",
    "        df = ff_data.iloc[idx-N:idx, [1,2,3,4]]\n",
    "\n",
    "        # Fetch current values and next values to see how we performed\n",
    "        curr_vals_X = np.array( ff_data.iloc[idx-1, [1,2,3]] ) \n",
    "        next_vals_Y = np.array( ff_data.iloc[idx, 4] )\n",
    "\n",
    "        # Store the (real) y-val\n",
    "        y_vals.append( next_vals_Y )\n",
    "\n",
    "        ########## Finish Fetching Data ##########\n",
    "\n",
    "        ########## Begin Regressions / Prediction ##########\n",
    "\n",
    "        # Multivariate #\n",
    "        mv_betas, mv_rsq = perform_mv_ff_regerssion( df )\n",
    "        mv_pred = mv_prediction( mv_betas, curr_vals_X )\n",
    "        mv_preds.append( mv_pred )\n",
    "\n",
    "        # Univariate #\n",
    "        for i, col in enumerate( df.columns.tolist()[:-1] ):\n",
    "            # Regress\n",
    "            uv_beta, uv_rsq_val = perform_uv_ff_regerssion( df, col )\n",
    "\n",
    "            # Predict \n",
    "            uv_pred = uv_prediction(uv_beta, curr_vals_X[i]) \n",
    "\n",
    "            # Store\n",
    "            uv_rsq[i].append( uv_rsq_val ); uv_preds[i].append(uv_pred)\n",
    "\n",
    "        ########## Finish Regressions / Prediction ##########\n",
    "\n",
    "        ########## Begin Trading / Wealth ##########\n",
    "\n",
    "        # Perhaps if the Mom prediction is outside a standard deviation\n",
    "        # of the historical average then we trade\n",
    "\n",
    "        ## Get historical average\n",
    "        mom_avg = np.average( df.Mom ); mom_std = np.std( df.Mom )\n",
    "\n",
    "        # Determine whether to open a position, and long vs. short\n",
    "        if ( mv_pred < mom_avg - mom_std ):\n",
    "            V_t.append( 1 + next_vals_Y ) # Longing\n",
    "            trade_dates.append( ff_data.index[idx] )\n",
    "        elif ( mv_pred > mom_avg + mom_std ):\n",
    "            V_t.append( 1 - next_vals_Y ) # Shorting\n",
    "            trade_dates.append( ff_data.index[idx] )\n",
    "        else:\n",
    "            V_t.append( 1 ) # Not opening trade\n",
    "\n",
    "        ########## Finish Trading / Wealth ##########\n",
    "\n",
    "\n",
    "    ## Formalize return stream\n",
    "    V_t = np.unique( np.cumprod(V_t) )\n",
    "    ret_stream = pd.Series( data=V_t, index=trade_dates )\n",
    "\n",
    "    ## Gather stats\n",
    "    stats_df = gather_stats( uv_rsq, uv_preds, mv_rsq, mv_preds, y_vals )\n",
    "    \n",
    "    ## Get sharpe\n",
    "    sharpe = np.average(V_t)/np.std(V_t)/np.sqrt(12)\n",
    "    \n",
    "    return ( ret_stream, stats_df, sharpe )"
   ]
  },
  {
   "cell_type": "markdown",
   "metadata": {},
   "source": [
    "Using the function above, let's determine the optimal N via the output sharpe ratio. "
   ]
  },
  {
   "cell_type": "code",
   "execution_count": 38,
   "metadata": {},
   "outputs": [],
   "source": [
    "Ns = [N for N in range(10,25)]\n",
    "sharpes = [ driver(N)[2] for N in Ns ] "
   ]
  },
  {
   "cell_type": "code",
   "execution_count": 39,
   "metadata": {},
   "outputs": [
    {
     "data": {
      "text/plain": [
       "[<matplotlib.lines.Line2D at 0x11be22f98>]"
      ]
     },
     "execution_count": 39,
     "metadata": {},
     "output_type": "execute_result"
    },
    {
     "data": {
      "image/png": "[encoded data removed]",
      "text/plain": [
       "<Figure size 864x576 with 1 Axes>"
      ]
     },
     "metadata": {},
     "output_type": "display_data"
    }
   ],
   "source": [
    "## Create plot of Sharpes vs. Lookback window\n",
    "plt.figure(figsize=(12,8)); plt.title(\"Sharpe vs. N (Lookback Window Period)\")\n",
    "plt.xlabel(\"N\"); plt.ylabel(\"Sharpe\")\n",
    "plt.plot( sharpessharpes )"
   ]
  },
  {
   "cell_type": "code",
   "execution_count": 42,
   "metadata": {},
   "outputs": [],
   "source": [
    "N_star = Ns[ np.argmax( sharpes ) ]"
   ]
  },
  {
   "cell_type": "code",
   "execution_count": null,
   "metadata": {},
   "outputs": [],
   "source": []
  },
  {
   "cell_type": "code",
   "execution_count": null,
   "metadata": {},
   "outputs": [],
   "source": [
    "# ## Create wealth plot\n",
    "# plt.figure(figsize=(12,8)); plt.title(\"Strategy Wealth over Time\")\n",
    "# plt.xlabel(\"Time\"); plt.ylabel(\"Wealth\")\n",
    "# plt.plot( pd.Series(index=trade_dates, data=V_t) )"
   ]
  },
  {
   "cell_type": "code",
   "execution_count": null,
   "metadata": {},
   "outputs": [],
   "source": []
  },
  {
   "cell_type": "code",
   "execution_count": null,
   "metadata": {},
   "outputs": [],
   "source": []
  },
  {
   "cell_type": "code",
   "execution_count": null,
   "metadata": {},
   "outputs": [],
   "source": []
  },
  {
   "cell_type": "code",
   "execution_count": null,
   "metadata": {},
   "outputs": [],
   "source": []
  },
  {
   "cell_type": "code",
   "execution_count": null,
   "metadata": {},
   "outputs": [],
   "source": []
  },
  {
   "cell_type": "code",
   "execution_count": null,
   "metadata": {},
   "outputs": [],
   "source": []
  },
  {
   "cell_type": "code",
   "execution_count": null,
   "metadata": {},
   "outputs": [],
   "source": []
  },
  {
   "cell_type": "code",
   "execution_count": null,
   "metadata": {},
   "outputs": [],
   "source": []
  },
  {
   "cell_type": "code",
   "execution_count": null,
   "metadata": {},
   "outputs": [],
   "source": []
  },
  {
   "cell_type": "code",
   "execution_count": null,
   "metadata": {},
   "outputs": [],
   "source": []
  },
  {
   "cell_type": "code",
   "execution_count": null,
   "metadata": {},
   "outputs": [],
   "source": []
  },
  {
   "cell_type": "code",
   "execution_count": null,
   "metadata": {},
   "outputs": [],
   "source": []
  }
 ],
 "metadata": {
  "kernelspec": {
   "display_name": "Python 3",
   "language": "python",
   "name": "python3"
  },
  "language_info": {
   "codemirror_mode": {
    "name": "ipython",
    "version": 3
   },
   "file_extension": ".py",
   "mimetype": "text/x-python",
   "name": "python",
   "nbconvert_exporter": "python",
   "pygments_lexer": "ipython3",
   "version": "3.7.0"
  }
 },
 "nbformat": 4,
 "nbformat_minor": 2
}
