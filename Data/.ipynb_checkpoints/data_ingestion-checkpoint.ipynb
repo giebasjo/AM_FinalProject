{
 "cells": [
  {
   "cell_type": "markdown",
   "metadata": {},
   "source": [
    "# Data Ingestion\n",
    "\n",
    "Data Sources: <br>\n",
    "<ul>\n",
    "    <li>SP500 Data: Yahoo! Finance</li>\n",
    "    <li>Federal Funds Data: FRED</li>\n",
    "    <li>Industrial Production Data: FRED</li>\n",
    "    <li>Value/Momentum Data: AQR</li>\n",
    "</ul>\n",
    "\n",
    "**Goal**: The purpose of this notebook is to curate one dataset that has each of the datum above as a column"
   ]
  },
  {
   "cell_type": "code",
   "execution_count": 1,
   "metadata": {},
   "outputs": [],
   "source": [
    "import pandas as pd\n",
    "import numpy as np\n",
    "import matplotlib.pyplot as plt\n",
    "from datetime import datetime\n",
    "import os"
   ]
  },
  {
   "cell_type": "code",
   "execution_count": 2,
   "metadata": {},
   "outputs": [],
   "source": [
    "# Read in individual data sources\n",
    "sp500 = pd.read_csv(\"./DataSrcs/sp500_data.csv\")\n",
    "fed   = pd.read_csv(\"./DataSrcs/FEDFUNDS.csv\")\n",
    "ipi   = pd.read_csv(\"./DataSrcs/INDPRO.csv\")\n",
    "vmd   = pd.read_csv(\"./DataSrcs/value_momentum_data.csv\")\n",
    "\n",
    "## Update - 12/4/2018, fetch FF data\n",
    "ff = pd.read_csv(\"./DataSrcs/ff_data.csv\")\n",
    "ff.Date = ff.Date.apply( lambda x: datetime.strptime(str(x), \"%Y%m\").date() )\n",
    "ffmom = pd.read_csv(\"./DataSrcs/ff_mom_data.csv\")\n",
    "ffmom.Date = ffmom.Date.apply( lambda x: datetime.strptime(str(x), \"%Y%m\").date() )"
   ]
  },
  {
   "cell_type": "code",
   "execution_count": 3,
   "metadata": {},
   "outputs": [],
   "source": [
    "date_series = pd.Series( index = pd.RangeIndex(0, len(vmd.Date)) )\n",
    "for idx, date in enumerate(vmd.Date):\n",
    "    L = date.split(\"/\"); m = L[0]; d = L[1]; year = L[2]\n",
    "    \n",
    "    # check the year\n",
    "    if int(year) >= 72:\n",
    "        year = \"19\" + year\n",
    "    else:\n",
    "        year = \"20\" + year\n",
    "        \n",
    "    date_series[idx] = datetime(int(year), int(m), 1).date()\n",
    "    \n",
    "vmd.Date = date_series"
   ]
  },
  {
   "cell_type": "markdown",
   "metadata": {},
   "source": [
    "## Homogenizing\n",
    "\n",
    "Let's make all of the data homogenous - i.e. same data format to groupby. Also over the same time range. To that end, we'll look from February 1972 - September 2018 and we're going to remove each of the \"days\" once we convert the date columns to datetime"
   ]
  },
  {
   "cell_type": "code",
   "execution_count": 4,
   "metadata": {},
   "outputs": [],
   "source": [
    "start_date = datetime(1972, 2, 1); end_date = datetime(2018, 9, 1)"
   ]
  },
  {
   "cell_type": "code",
   "execution_count": 5,
   "metadata": {},
   "outputs": [],
   "source": [
    "all_data = [sp500, fed, ipi, vmd, ff, ffmom]\n",
    "for df in all_data:\n",
    "    dates = df.iloc[:,0]"
   ]
  },
  {
   "cell_type": "code",
   "execution_count": 6,
   "metadata": {},
   "outputs": [],
   "source": [
    "# Cast to datetime\n",
    "sp500.Date = pd.to_datetime(sp500.Date)\n",
    "fed.DATE   = pd.to_datetime(fed.DATE)\n",
    "ipi.DATE   = pd.to_datetime(ipi.DATE)\n",
    "vmd.Date   = pd.to_datetime(vmd.Date)\n",
    "ff.Date    = pd.to_datetime(ff.Date)\n",
    "ffmom.Date = pd.to_datetime(ffmom.Date)\n",
    "\n",
    "# Filter so that it's in between Feb72 - Sep18\n",
    "sp500 = sp500[ (start_date <= sp500.Date) & (sp500.Date <= end_date) ]\n",
    "fed = fed[ (start_date <= fed.DATE) & (fed.DATE <= end_date) ]\n",
    "ipi = ipi[ (start_date <= ipi.DATE) & (ipi.DATE <= end_date) ]\n",
    "vmd = vmd[ (start_date <= vmd.Date) & (vmd.Date <= end_date) ]\n",
    "#ff  = ff[ (start_date <= ff.Date) & (ff.Date <= end_date) ]\n",
    "\n",
    "# Redefine with the new dataframes\n",
    "all_data = [sp500, fed, ipi, vmd, ff, ffmom]"
   ]
  },
  {
   "cell_type": "code",
   "execution_count": 7,
   "metadata": {},
   "outputs": [],
   "source": [
    "dataset = pd.concat(all_data, axis=1)\n",
    "dataset.index = dataset.iloc[:,0]\n",
    "dataset = dataset.drop([\"Date\", \"DATE\", \"DATE\", \"Date\"], axis=1)\n",
    "dataset[\"VAL^US\"] = dataset[\"VAL^US\"].shift(-1)\n",
    "dataset[\"MOM^US\"] = dataset[\"MOM^US\"].shift(-1)\n",
    "\n",
    "dataset = dataset.drop( [\"Open\", \"High\", \"Low\", \"Close\", \"HML\", \"RMW\", \"CMA\", \"RF\"], axis=1 )\n",
    "dataset[\"Mkt-RF\"] /= 100; dataset[\"SMB\"] /= 100; dataset.iloc[:,8] /= 100"
   ]
  },
  {
   "cell_type": "code",
   "execution_count": 8,
   "metadata": {},
   "outputs": [
    {
     "data": {
      "text/html": [
       "<div>\n",
       "<style scoped>\n",
       "    .dataframe tbody tr th:only-of-type {\n",
       "        vertical-align: middle;\n",
       "    }\n",
       "\n",
       "    .dataframe tbody tr th {\n",
       "        vertical-align: top;\n",
       "    }\n",
       "\n",
       "    .dataframe thead th {\n",
       "        text-align: right;\n",
       "    }\n",
       "</style>\n",
       "<table border=\"1\" class=\"dataframe\">\n",
       "  <thead>\n",
       "    <tr style=\"text-align: right;\">\n",
       "      <th></th>\n",
       "      <th>Adj Close</th>\n",
       "      <th>Volume</th>\n",
       "      <th>FEDFUNDS</th>\n",
       "      <th>INDPRO</th>\n",
       "      <th>VAL^US</th>\n",
       "      <th>MOM^US</th>\n",
       "      <th>Mkt-RF</th>\n",
       "      <th>SMB</th>\n",
       "      <th>Mom</th>\n",
       "    </tr>\n",
       "    <tr>\n",
       "      <th>Date</th>\n",
       "      <th></th>\n",
       "      <th></th>\n",
       "      <th></th>\n",
       "      <th></th>\n",
       "      <th></th>\n",
       "      <th></th>\n",
       "      <th></th>\n",
       "      <th></th>\n",
       "      <th></th>\n",
       "    </tr>\n",
       "  </thead>\n",
       "  <tbody>\n",
       "    <tr>\n",
       "      <th>1972-02-01</th>\n",
       "      <td>106.570000</td>\n",
       "      <td>376260000.0</td>\n",
       "      <td>3.29</td>\n",
       "      <td>41.6800</td>\n",
       "      <td>-6.0%</td>\n",
       "      <td>4.3%</td>\n",
       "      <td>-0.0039</td>\n",
       "      <td>-0.0047</td>\n",
       "      <td>0.0044</td>\n",
       "    </tr>\n",
       "    <tr>\n",
       "      <th>1972-03-01</th>\n",
       "      <td>107.199997</td>\n",
       "      <td>403650000.0</td>\n",
       "      <td>3.83</td>\n",
       "      <td>41.9758</td>\n",
       "      <td>-1.0%</td>\n",
       "      <td>1.3%</td>\n",
       "      <td>0.0507</td>\n",
       "      <td>-0.0078</td>\n",
       "      <td>-0.0201</td>\n",
       "    </tr>\n",
       "    <tr>\n",
       "      <th>1972-04-01</th>\n",
       "      <td>107.669998</td>\n",
       "      <td>367990000.0</td>\n",
       "      <td>4.17</td>\n",
       "      <td>42.4207</td>\n",
       "      <td>-0.4%</td>\n",
       "      <td>2.1%</td>\n",
       "      <td>-0.0157</td>\n",
       "      <td>-0.0048</td>\n",
       "      <td>0.0359</td>\n",
       "    </tr>\n",
       "    <tr>\n",
       "      <th>1972-05-01</th>\n",
       "      <td>109.529999</td>\n",
       "      <td>335850000.0</td>\n",
       "      <td>4.27</td>\n",
       "      <td>42.3956</td>\n",
       "      <td>-5.7%</td>\n",
       "      <td>5.5%</td>\n",
       "      <td>0.0253</td>\n",
       "      <td>-0.0129</td>\n",
       "      <td>0.0419</td>\n",
       "    </tr>\n",
       "    <tr>\n",
       "      <th>1972-06-01</th>\n",
       "      <td>107.139999</td>\n",
       "      <td>314510000.0</td>\n",
       "      <td>4.46</td>\n",
       "      <td>42.5178</td>\n",
       "      <td>-3.6%</td>\n",
       "      <td>2.3%</td>\n",
       "      <td>-0.0085</td>\n",
       "      <td>-0.0084</td>\n",
       "      <td>0.0301</td>\n",
       "    </tr>\n",
       "  </tbody>\n",
       "</table>\n",
       "</div>"
      ],
      "text/plain": [
       "             Adj Close       Volume  FEDFUNDS   INDPRO VAL^US MOM^US  Mkt-RF  \\\n",
       "Date                                                                           \n",
       "1972-02-01  106.570000  376260000.0      3.29  41.6800  -6.0%   4.3% -0.0039   \n",
       "1972-03-01  107.199997  403650000.0      3.83  41.9758  -1.0%   1.3%  0.0507   \n",
       "1972-04-01  107.669998  367990000.0      4.17  42.4207  -0.4%   2.1% -0.0157   \n",
       "1972-05-01  109.529999  335850000.0      4.27  42.3956  -5.7%   5.5%  0.0253   \n",
       "1972-06-01  107.139999  314510000.0      4.46  42.5178  -3.6%   2.3% -0.0085   \n",
       "\n",
       "               SMB  Mom     \n",
       "Date                        \n",
       "1972-02-01 -0.0047  0.0044  \n",
       "1972-03-01 -0.0078 -0.0201  \n",
       "1972-04-01 -0.0048  0.0359  \n",
       "1972-05-01 -0.0129  0.0419  \n",
       "1972-06-01 -0.0084  0.0301  "
      ]
     },
     "execution_count": 8,
     "metadata": {},
     "output_type": "execute_result"
    }
   ],
   "source": [
    "dataset.head()"
   ]
  },
  {
   "cell_type": "code",
   "execution_count": 9,
   "metadata": {},
   "outputs": [
    {
     "data": {
      "text/plain": [
       "0"
      ]
     },
     "execution_count": 9,
     "metadata": {},
     "output_type": "execute_result"
    }
   ],
   "source": [
    "# Save as csv file for you all to just pull from the repo\n",
    "# It will easily create the data set as \"dataset_{}\" where {} is the date you ran this code\n",
    "td = str(datetime.today().date())\n",
    "dataset.to_csv( \"./all_dataset_{}.csv\".format(td, td) )\n",
    "\n",
    "## Build an \"AQR\" dataset\n",
    "aqr_dataset = ff_dataset = dataset.iloc[:,[0,1,2,3,4,5]]\n",
    "aqr_dataset.to_csv( \"./aqr_dataset_{}.csv\".format(td, td) )\n",
    "\n",
    "## Build an \"FF\" dataset\n",
    "ff_dataset  = dataset.iloc[:,[1,3,6,7,8]]\n",
    "ff_dataset.to_csv( \"./ff_dataset_{}.csv\".format(td, td) )\n",
    "\n",
    "# Put all in the correct directory\n",
    "os.system( \"mkdir '{}_Data'\".format(td) )\n",
    "os.system( \"mv 'aqr_dataset_{}.csv' 'ff_dataset_{}.csv' \\\n",
    "'all_dataset_{}.csv' './{}_Data'\".format(td, td, td, td) )"
   ]
  }
 ],
 "metadata": {
  "kernelspec": {
   "display_name": "Python 3",
   "language": "python",
   "name": "python3"
  },
  "language_info": {
   "codemirror_mode": {
    "name": "ipython",
    "version": 3
   },
   "file_extension": ".py",
   "mimetype": "text/x-python",
   "name": "python",
   "nbconvert_exporter": "python",
   "pygments_lexer": "ipython3",
   "version": "3.7.0"
  }
 },
 "nbformat": 4,
 "nbformat_minor": 2
}
